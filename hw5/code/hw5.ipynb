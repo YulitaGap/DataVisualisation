{
 "cells": [
  {
   "cell_type": "code",
   "execution_count": null,
   "id": "b86555a4",
   "metadata": {},
   "outputs": [],
   "source": [
    "import pandas as pd\n",
    "import altair as alt\n",
    "import geopandas as gpd"
   ]
  },
  {
   "cell_type": "code",
   "execution_count": null,
   "id": "13741599",
   "metadata": {},
   "outputs": [],
   "source": [
    "#Reading data with population growth info \n",
    "df = pd.read_csv(\"../data/data.csv\", skiprows = 31)\n",
    "\n",
    "#Renaming columns for convenience\n",
    "df.rename(columns={'Ukraine':'city'}, inplace=True)\n",
    "df.rename(columns={'2019':'year'}, inplace=True)\n",
    "df.rename(columns={'-6.6':'rate'}, inplace=True)\n",
    "df.head()"
   ]
  },
  {
   "cell_type": "code",
   "execution_count": null,
   "id": "6dda37a3",
   "metadata": {},
   "outputs": [],
   "source": [
    "ukraine = gpd.read_file('../data/ukraine.json')\n",
    "ukraine.head()"
   ]
  },
  {
   "cell_type": "markdown",
   "id": "9789b3c4",
   "metadata": {},
   "source": [
    "To visualize rates on map let's merge two df-s"
   ]
  },
  {
   "cell_type": "code",
   "execution_count": null,
   "id": "e1edf946",
   "metadata": {},
   "outputs": [],
   "source": [
    "#Renaming a column to have a common column for merge.\n",
    "ukraine.rename(columns={'NAME_1':'city'}, inplace=True)"
   ]
  },
  {
   "cell_type": "code",
   "execution_count": null,
   "id": "1ca41192",
   "metadata": {},
   "outputs": [],
   "source": [
    "merged = ukraine.merge(df)"
   ]
  },
  {
   "cell_type": "code",
   "execution_count": null,
   "id": "96ff4785",
   "metadata": {},
   "outputs": [],
   "source": [
    "#As some rows have a Nan value, let's clean them up before visualising\n",
    "merged = merged[merged['rate'].notna()]\n",
    "merged.head()"
   ]
  },
  {
   "cell_type": "markdown",
   "id": "d8cb1961",
   "metadata": {},
   "source": [
    "## Q1"
   ]
  },
  {
   "cell_type": "code",
   "execution_count": null,
   "id": "540a7e7e",
   "metadata": {},
   "outputs": [],
   "source": [
    "alt.Chart(merged).mark_geoshape(stroke = 'white', strokeWidth = 1\n",
    ").encode(\n",
    "    color = alt.Color('rate:Q', scale = alt.Scale(scheme = 'redgrey'))\n",
    ")"
   ]
  },
  {
   "cell_type": "markdown",
   "id": "c45c1eff",
   "metadata": {},
   "source": [
    "## Q2"
   ]
  },
  {
   "cell_type": "code",
   "execution_count": null,
   "id": "564e9adc",
   "metadata": {},
   "outputs": [],
   "source": [
    "alt.Chart(merged).mark_line().encode(\n",
    "    x='year',\n",
    "    y='rate',\n",
    "    color='city').properties(\n",
    "    width=500,\n",
    "    height=300\n",
    ")"
   ]
  }
 ],
 "metadata": {
  "kernelspec": {
   "display_name": "Python 3 (ipykernel)",
   "language": "python",
   "name": "python3"
  },
  "language_info": {
   "codemirror_mode": {
    "name": "ipython",
    "version": 3
   },
   "file_extension": ".py",
   "mimetype": "text/x-python",
   "name": "python",
   "nbconvert_exporter": "python",
   "pygments_lexer": "ipython3",
   "version": "3.8.9"
  }
 },
 "nbformat": 4,
 "nbformat_minor": 5
}
